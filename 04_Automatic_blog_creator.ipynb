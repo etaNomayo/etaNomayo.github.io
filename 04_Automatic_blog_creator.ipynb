{
 "cells": [
  {
   "cell_type": "markdown",
   "id": "d019496d",
   "metadata": {},
   "source": [
    "# Automatic Blog Generator"
   ]
  },
  {
   "cell_type": "markdown",
   "id": "53b3db17",
   "metadata": {},
   "source": [
    "In this project, we will be  combining OpenAi with a document a page the lives on the internet(GitHub)."
   ]
  },
  {
   "cell_type": "markdown",
   "id": "1ed62e96",
   "metadata": {},
   "source": [
    "<h4>Setup Github Account</h4>\n",
    "<ul>\n",
    "    <li>Create a new public repository on github using the format: username.github.io</li>\n",
    " <li>Clone the repository</li>\n",
    " <li>Create an index.html file</li>\n",
    " <li>Add some content to the index file</li>\n",
    " <li>Push changes made and go to https://username.github.io to view document on the web</li>\n",
    "    </ul>\n"
   ]
  },
  {
   "cell_type": "code",
   "execution_count": 1,
   "id": "9f995cc4",
   "metadata": {},
   "outputs": [],
   "source": [
    "import openai\n",
    "import os"
   ]
  },
  {
   "cell_type": "code",
   "execution_count": 2,
   "id": "7ff60c6e",
   "metadata": {},
   "outputs": [
    {
     "name": "stdout",
     "output_type": "stream",
     "text": [
      "········\n"
     ]
    }
   ],
   "source": [
    "from getpass import getpass\n",
    "openai.api_key=getpass()"
   ]
  },
  {
   "cell_type": "code",
   "execution_count": 3,
   "id": "c9a1a6d4",
   "metadata": {},
   "outputs": [
    {
     "name": "stdout",
     "output_type": "stream",
     "text": [
      "Requirement already satisfied: GitPython in /Users/evelyn.nomayo/anaconda3/lib/python3.10/site-packages (3.1.31)\r\n",
      "Requirement already satisfied: gitdb<5,>=4.0.1 in /Users/evelyn.nomayo/anaconda3/lib/python3.10/site-packages (from GitPython) (4.0.10)\r\n",
      "Requirement already satisfied: smmap<6,>=3.0.1 in /Users/evelyn.nomayo/anaconda3/lib/python3.10/site-packages (from gitdb<5,>=4.0.1->GitPython) (5.0.0)\r\n"
     ]
    }
   ],
   "source": [
    "#Install the GitPython library. It allows us to make git calls within python code\n",
    "!pip3 install GitPython"
   ]
  },
  {
   "cell_type": "code",
   "execution_count": 84,
   "id": "75852e65",
   "metadata": {},
   "outputs": [],
   "source": [
    "# Import Repo(Git repository) and set repo path as variables\n",
    "from git import Repo"
   ]
  },
  {
   "cell_type": "code",
   "execution_count": 85,
   "id": "cc639aa4",
   "metadata": {},
   "outputs": [],
   "source": [
    "#Import Path functionality-This allows us to easily set paths\n",
    "from pathlib import Path"
   ]
  },
  {
   "cell_type": "code",
   "execution_count": 86,
   "id": "8b9b9eb7",
   "metadata": {},
   "outputs": [
    {
     "data": {
      "text/plain": [
       "'/Users/evelyn.nomayo/GitHub/project_gpt/gpt_env/etaNomayo.github.io'"
      ]
     },
     "execution_count": 86,
     "metadata": {},
     "output_type": "execute_result"
    }
   ],
   "source": [
    "pwd"
   ]
  },
  {
   "cell_type": "code",
   "execution_count": 87,
   "id": "92c91a7b",
   "metadata": {},
   "outputs": [],
   "source": [
    "PATH_TO_BLOG_REPO=Path('/Users/evelyn.nomayo/GitHub/project_gpt/gpt_env/etaNomayo.github.io/.git')"
   ]
  },
  {
   "cell_type": "code",
   "execution_count": 88,
   "id": "309f808f",
   "metadata": {},
   "outputs": [
    {
     "data": {
      "text/plain": [
       "PosixPath('/Users/evelyn.nomayo/GitHub/project_gpt/gpt_env/etaNomayo.github.io')"
      ]
     },
     "execution_count": 88,
     "metadata": {},
     "output_type": "execute_result"
    }
   ],
   "source": [
    "PATH_TO_BLOG_REPO.parent"
   ]
  },
  {
   "cell_type": "code",
   "execution_count": 89,
   "id": "787ef6e7",
   "metadata": {},
   "outputs": [],
   "source": [
    "PATH_TO_BLOG=PATH_TO_BLOG_REPO.parent"
   ]
  },
  {
   "cell_type": "code",
   "execution_count": 90,
   "id": "51bd4365",
   "metadata": {},
   "outputs": [
    {
     "data": {
      "text/plain": [
       "PosixPath('/Users/evelyn.nomayo/GitHub/project_gpt/gpt_env/etaNomayo.github.io/content')"
      ]
     },
     "execution_count": 90,
     "metadata": {},
     "output_type": "execute_result"
    }
   ],
   "source": [
    "#Create a sub directory called content\n",
    "PATH_TO_BLOG/\"content\""
   ]
  },
  {
   "cell_type": "code",
   "execution_count": 91,
   "id": "e34dda00",
   "metadata": {},
   "outputs": [],
   "source": [
    "#Asign a variable to the path to blog\n",
    "PATH_TO_CONTENT= PATH_TO_BLOG/\"content\""
   ]
  },
  {
   "cell_type": "code",
   "execution_count": 92,
   "id": "24ce9fb3",
   "metadata": {},
   "outputs": [],
   "source": [
    "#There is actually no content folder yet, so lets create one\n",
    "PATH_TO_CONTENT.mkdir(exist_ok=True, parents=True)"
   ]
  },
  {
   "cell_type": "markdown",
   "id": "c3abbbf6",
   "metadata": {},
   "source": [
    "# Function to automatically update web page "
   ]
  },
  {
   "cell_type": "markdown",
   "id": "e0430dd0",
   "metadata": {},
   "source": [
    "Now that we've established our file path, let's verify that we can utilize Git to automate updates and push changes to the blog. To achieve this, we'll create a function that can handle adding, committing, and pushing changes from within Python"
   ]
  },
  {
   "cell_type": "code",
   "execution_count": 13,
   "id": "565818a3",
   "metadata": {},
   "outputs": [],
   "source": [
    "# Function to update blog\n",
    "def update_blog(commit_message='The Blog has just been updated'):\n",
    "    #Sync to a reposotory using the gitPython library Repo\n",
    "    repo=Repo(PATH_TO_BLOG_REPO)\n",
    "    #Call the git add command to add new update vis the repo path\n",
    "    repo.git.add(all=True)\n",
    "    #git commit -m \"The Blog has just been updated\"\n",
    "    repo.index.commit(commit_message)\n",
    "    #git push\n",
    "    origin = repo.remote(name='origin')\n",
    "    origin.push()\n",
    "    "
   ]
  },
  {
   "cell_type": "code",
   "execution_count": 14,
   "id": "2112fc47",
   "metadata": {},
   "outputs": [],
   "source": [
    "#let us check if this works using a random text to uodate the blog post\n",
    "randon_text_string =\"Just testing here, note that this will replace the original content\""
   ]
  },
  {
   "cell_type": "code",
   "execution_count": 15,
   "id": "add84d2a",
   "metadata": {},
   "outputs": [],
   "source": [
    "with open(PATH_TO_BLOG/\"index.html\", 'w') as f:\n",
    "    f.write(randon_text_string)"
   ]
  },
  {
   "cell_type": "code",
   "execution_count": 16,
   "id": "005a8e40",
   "metadata": {},
   "outputs": [],
   "source": [
    "update_blog()"
   ]
  },
  {
   "cell_type": "markdown",
   "id": "c1c2cb82",
   "metadata": {},
   "source": [
    "# Function to automatically create HTML pages"
   ]
  },
  {
   "cell_type": "markdown",
   "id": "773da292",
   "metadata": {},
   "source": [
    "The function will have the ability to generate HTML pages automatically and complete with placeholders for text and images. These placeholders will later be populated with data retrieved from OpenAI API calls. The pages will be pushed to the content directory created above"
   ]
  },
  {
   "cell_type": "code",
   "execution_count": 75,
   "id": "381fc80c",
   "metadata": {},
   "outputs": [],
   "source": [
    "#Function to create new blog pages\n",
    "#import the shutil utility to help with copying and moving files, as well as archiving utilities.\n",
    "\n",
    "import shutil\n",
    "def create_new_blog(title, content, cover_image):\n",
    "    cover_image =Path(cover_image)\n",
    "    #Get a list of files and count the number of html files in the content directory\n",
    "    files =len(list(PATH_TO_CONTENT.glob(\".html\")))\n",
    "    new_title = f\"(files+1).html\"\n",
    "    path_to_new_content = PATH_TO_CONTENT/new_title\n",
    "    \n",
    "    #copy cover image and put it in the path to content\n",
    "    \n",
    "    shutil.copy(cover_image,PATH_TO_CONTENT)\n",
    "    #If file already exist. If already exist raise an error message\n",
    "    if not os.path.exists(path_to_new_content):\n",
    "        #Write a new html file\n",
    "        with open(path_to_new_content, 'w') as f:\n",
    "            f.write('<!DOCTYPE HTML >\\n')\n",
    "            f.write(\"<html>\\n\")\n",
    "            f.write(\"<head>\\n\")\n",
    "            f.write(f\"<title> {title} </title>\\n\")\n",
    "            f.write(\"</head>\\n\")\n",
    "            \n",
    "            f.write(\"<body>\\n\")\n",
    "            f.write(f\"<img src='{cover_image.name}'  alt='Cover image'> <br />\\n\")\n",
    "            f.write(f\"<h1>{title} </h1>\")\n",
    "            \n",
    "            #Introduce OpenAI here\n",
    "            f.write(content.replace(\"\\n\", \"<br />\\n\") )\n",
    "            f.write(\"</body>\\n\")\n",
    "            f.write(\"</html>\\n\")\n",
    "            print(\"Blog has been created\")\n",
    "            return path_to_new_content\n",
    "   # else:\n",
    "    #        raise FileExistsError('This file already exsist, please check the name of the file! Aborting....')\n"
   ]
  },
  {
   "cell_type": "code",
   "execution_count": 76,
   "id": "c674714a",
   "metadata": {},
   "outputs": [],
   "source": [
    "path_to_new_content = create_new_blog('Test_title','Randon text','accenture.svg')"
   ]
  },
  {
   "cell_type": "markdown",
   "id": "99bb3b83",
   "metadata": {},
   "source": [
    "We will automate the process of adding a link to all blog posts on the index page using the library known as Beautiful Soup. This will involve creating a list on the index page that contains links to all blog posts"
   ]
  },
  {
   "cell_type": "code",
   "execution_count": 77,
   "id": "1fba7e5f",
   "metadata": {},
   "outputs": [
    {
     "name": "stdout",
     "output_type": "stream",
     "text": [
      "Requirement already satisfied: beautifulsoup4 in /Users/evelyn.nomayo/anaconda3/lib/python3.10/site-packages (4.11.1)\r\n",
      "Requirement already satisfied: soupsieve>1.2 in /Users/evelyn.nomayo/anaconda3/lib/python3.10/site-packages (from beautifulsoup4) (2.3.2.post1)\r\n"
     ]
    }
   ],
   "source": [
    "#Install beautifulsoup4: used for web scraping purposes to extract data from HTML and XML documents. It provides a simple and efficient way to navigate, search, and modify the parsed HTML or XML data.\n",
    "!pip install beautifulsoup4"
   ]
  },
  {
   "cell_type": "code",
   "execution_count": 78,
   "id": "429668ff",
   "metadata": {},
   "outputs": [],
   "source": [
    "from bs4 import BeautifulSoup as Soup"
   ]
  },
  {
   "cell_type": "code",
   "execution_count": 79,
   "id": "c78555dd",
   "metadata": {},
   "outputs": [],
   "source": [
    "with open(PATH_TO_BLOG/\"index.html\") as index:\n",
    "    soup = Soup(index.read())"
   ]
  },
  {
   "cell_type": "code",
   "execution_count": 80,
   "id": "806256f1",
   "metadata": {},
   "outputs": [
    {
     "data": {
      "text/plain": [
       "'<html lang=\"en\">\\n<head>\\n<meta charset=\"utf-8\"/>\\n<meta content=\"IE=edge\" http-equiv=\"X-UA-Compatible\"/>\\n<meta content=\"width=device-width, initial-scale=1.0\" name=\"viewport\"/>\\n<title>Document</title>\\n</head>\\n<body>\\n<h1> My Blockchain Blog</h1>\\n<a href=\"index.html\">Home</a>\\n</body>\\n</html>'"
      ]
     },
     "execution_count": 80,
     "metadata": {},
     "output_type": "execute_result"
    }
   ],
   "source": [
    "str(soup)"
   ]
  },
  {
   "cell_type": "markdown",
   "id": "8a24b22c",
   "metadata": {},
   "source": [
    "Now let us check for duplicate links and pass in the path to the new content"
   ]
  },
  {
   "cell_type": "code",
   "execution_count": 93,
   "id": "adae55d7",
   "metadata": {},
   "outputs": [],
   "source": [
    "def check_for_duplicate_links(path_to_new_content, links):\n",
    "    urls = [str(link.get(\"href\")) for link in links]\n",
    "    content_path = str(Path(*path_to_new_content.parts[-2:]))\n",
    "    return content_path in urls"
   ]
  },
  {
   "cell_type": "markdown",
   "id": "3a60236f",
   "metadata": {},
   "source": [
    "Now lets write to the index file"
   ]
  },
  {
   "cell_type": "code",
   "execution_count": 94,
   "id": "7ee370e0",
   "metadata": {},
   "outputs": [],
   "source": [
    "def write_to_index(path_to_new_content):\n",
    "    with open(PATH_TO_BLOG/\"index.html\") as index:\n",
    "        soup = Soup(index.read())\n",
    "\n",
    "    links = soup.find_all(\"a\")\n",
    "    last_link = links[-1]\n",
    "    \n",
    "    if check_for_duplicate_links(path_to_new_content, links):\n",
    "        raise ValueError(\"Link does already exist!\")\n",
    "        \n",
    "    link_to_new_blog = soup.new_tag(\"a\", href=Path(*path_to_new_content.parts[-2:]))\n",
    "    link_to_new_blog.string = path_to_new_content.name.split(\".\")[0]\n",
    "    last_link.insert_after(link_to_new_blog)\n",
    "    \n",
    "    with open(PATH_TO_BLOG/\"index.html\", \"w\") as f:\n",
    "        f.write(str(soup.prettify(formatter='html')))"
   ]
  },
  {
   "cell_type": "code",
   "execution_count": 95,
   "id": "0ddc23bf",
   "metadata": {},
   "outputs": [
    {
     "ename": "AttributeError",
     "evalue": "'NoneType' object has no attribute 'parts'",
     "output_type": "error",
     "traceback": [
      "\u001b[0;31m---------------------------------------------------------------------------\u001b[0m",
      "\u001b[0;31mAttributeError\u001b[0m                            Traceback (most recent call last)",
      "Cell \u001b[0;32mIn[95], line 1\u001b[0m\n\u001b[0;32m----> 1\u001b[0m \u001b[43mwrite_to_index\u001b[49m\u001b[43m(\u001b[49m\u001b[43mpath_to_new_content\u001b[49m\u001b[43m)\u001b[49m\n",
      "Cell \u001b[0;32mIn[94], line 8\u001b[0m, in \u001b[0;36mwrite_to_index\u001b[0;34m(path_to_new_content)\u001b[0m\n\u001b[1;32m      5\u001b[0m links \u001b[38;5;241m=\u001b[39m soup\u001b[38;5;241m.\u001b[39mfind_all(\u001b[38;5;124m\"\u001b[39m\u001b[38;5;124ma\u001b[39m\u001b[38;5;124m\"\u001b[39m)\n\u001b[1;32m      6\u001b[0m last_link \u001b[38;5;241m=\u001b[39m links[\u001b[38;5;241m-\u001b[39m\u001b[38;5;241m1\u001b[39m]\n\u001b[0;32m----> 8\u001b[0m \u001b[38;5;28;01mif\u001b[39;00m \u001b[43mcheck_for_duplicate_links\u001b[49m\u001b[43m(\u001b[49m\u001b[43mpath_to_new_content\u001b[49m\u001b[43m,\u001b[49m\u001b[43m \u001b[49m\u001b[43mlinks\u001b[49m\u001b[43m)\u001b[49m:\n\u001b[1;32m      9\u001b[0m     \u001b[38;5;28;01mraise\u001b[39;00m \u001b[38;5;167;01mValueError\u001b[39;00m(\u001b[38;5;124m\"\u001b[39m\u001b[38;5;124mLink does already exist!\u001b[39m\u001b[38;5;124m\"\u001b[39m)\n\u001b[1;32m     11\u001b[0m link_to_new_blog \u001b[38;5;241m=\u001b[39m soup\u001b[38;5;241m.\u001b[39mnew_tag(\u001b[38;5;124m\"\u001b[39m\u001b[38;5;124ma\u001b[39m\u001b[38;5;124m\"\u001b[39m, href\u001b[38;5;241m=\u001b[39mPath(\u001b[38;5;241m*\u001b[39mpath_to_new_content\u001b[38;5;241m.\u001b[39mparts[\u001b[38;5;241m-\u001b[39m\u001b[38;5;241m2\u001b[39m:]))\n",
      "Cell \u001b[0;32mIn[93], line 3\u001b[0m, in \u001b[0;36mcheck_for_duplicate_links\u001b[0;34m(path_to_new_content, links)\u001b[0m\n\u001b[1;32m      1\u001b[0m \u001b[38;5;28;01mdef\u001b[39;00m \u001b[38;5;21mcheck_for_duplicate_links\u001b[39m(path_to_new_content, links):\n\u001b[1;32m      2\u001b[0m     urls \u001b[38;5;241m=\u001b[39m [\u001b[38;5;28mstr\u001b[39m(link\u001b[38;5;241m.\u001b[39mget(\u001b[38;5;124m\"\u001b[39m\u001b[38;5;124mhref\u001b[39m\u001b[38;5;124m\"\u001b[39m)) \u001b[38;5;28;01mfor\u001b[39;00m link \u001b[38;5;129;01min\u001b[39;00m links]\n\u001b[0;32m----> 3\u001b[0m     content_path \u001b[38;5;241m=\u001b[39m \u001b[38;5;28mstr\u001b[39m(Path(\u001b[38;5;241m*\u001b[39m\u001b[43mpath_to_new_content\u001b[49m\u001b[38;5;241;43m.\u001b[39;49m\u001b[43mparts\u001b[49m[\u001b[38;5;241m-\u001b[39m\u001b[38;5;241m2\u001b[39m:]))\n\u001b[1;32m      4\u001b[0m     \u001b[38;5;28;01mreturn\u001b[39;00m content_path \u001b[38;5;129;01min\u001b[39;00m urls\n",
      "\u001b[0;31mAttributeError\u001b[0m: 'NoneType' object has no attribute 'parts'"
     ]
    }
   ],
   "source": [
    "write_to_index(path_to_new_content)"
   ]
  },
  {
   "cell_type": "code",
   "execution_count": null,
   "id": "57490669",
   "metadata": {},
   "outputs": [],
   "source": []
  }
 ],
 "metadata": {
  "kernelspec": {
   "display_name": "Python 3 (ipykernel)",
   "language": "python",
   "name": "python3"
  },
  "language_info": {
   "codemirror_mode": {
    "name": "ipython",
    "version": 3
   },
   "file_extension": ".py",
   "mimetype": "text/x-python",
   "name": "python",
   "nbconvert_exporter": "python",
   "pygments_lexer": "ipython3",
   "version": "3.10.9"
  }
 },
 "nbformat": 4,
 "nbformat_minor": 5
}
