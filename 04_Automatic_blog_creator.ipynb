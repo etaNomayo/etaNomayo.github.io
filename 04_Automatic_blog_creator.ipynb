{
 "cells": [
  {
   "cell_type": "markdown",
   "id": "30d5dbab",
   "metadata": {},
   "source": [
    "# Automatic Blog Generator"
   ]
  },
  {
   "cell_type": "markdown",
   "id": "b5bdee5d",
   "metadata": {},
   "source": [
    "In this project, we will be  combining OpenAi with a document a page the lives on the internet(GitHub)."
   ]
  },
  {
   "cell_type": "markdown",
   "id": "ea096dd4",
   "metadata": {},
   "source": [
    "<h4>Setup Github Account</h4>\n",
    "<ul>\n",
    "    <li>Create a new public repository on github using the format: username.github.io</li>\n",
    " <li>Clone the repository</li>\n",
    " <li>Create an index.html file</li>\n",
    " <li>Add some content to the index file</li>\n",
    " <li>Push changes made and go to https://username.github.io to view document on the web</li>\n",
    "    </ul>\n"
   ]
  },
  {
   "cell_type": "code",
   "execution_count": 2,
   "id": "5adb2695",
   "metadata": {},
   "outputs": [],
   "source": [
    "import openai"
   ]
  },
  {
   "cell_type": "code",
   "execution_count": 3,
   "id": "5bd8baee",
   "metadata": {},
   "outputs": [
    {
     "name": "stdout",
     "output_type": "stream",
     "text": [
      "········\n"
     ]
    }
   ],
   "source": [
    "from getpass import getpass\n",
    "openai.api_key=getpass()"
   ]
  },
  {
   "cell_type": "code",
   "execution_count": 1,
   "id": "9e4bcfe1",
   "metadata": {},
   "outputs": [
    {
     "name": "stdout",
     "output_type": "stream",
     "text": [
      "Requirement already satisfied: GitPython in /Users/evelyn.nomayo/anaconda3/lib/python3.10/site-packages (3.1.31)\r\n",
      "Requirement already satisfied: gitdb<5,>=4.0.1 in /Users/evelyn.nomayo/anaconda3/lib/python3.10/site-packages (from GitPython) (4.0.10)\r\n",
      "Requirement already satisfied: smmap<6,>=3.0.1 in /Users/evelyn.nomayo/anaconda3/lib/python3.10/site-packages (from gitdb<5,>=4.0.1->GitPython) (5.0.0)\r\n"
     ]
    }
   ],
   "source": [
    "#Install the GitPython library. It allows us to make git calls within python code\n",
    "!pip3 install GitPython"
   ]
  },
  {
   "cell_type": "code",
   "execution_count": 4,
   "id": "131bb750",
   "metadata": {},
   "outputs": [],
   "source": [
    "# Import Repo(Git repository) and set repo path as variables\n",
    "from git import Repo"
   ]
  },
  {
   "cell_type": "code",
   "execution_count": 10,
   "id": "2eafeb7c",
   "metadata": {},
   "outputs": [],
   "source": [
    "#Import Path functionality-This allows us to easily set paths\n",
    "from pathlib import Path"
   ]
  },
  {
   "cell_type": "code",
   "execution_count": 6,
   "id": "1ce448f0",
   "metadata": {},
   "outputs": [
    {
     "data": {
      "text/plain": [
       "'/Users/evelyn.nomayo/GitHub/project_gpt/gpt_env/etaNomayo.github.io'"
      ]
     },
     "execution_count": 6,
     "metadata": {},
     "output_type": "execute_result"
    }
   ],
   "source": [
    "pwd"
   ]
  },
  {
   "cell_type": "code",
   "execution_count": 14,
   "id": "dcd47286",
   "metadata": {},
   "outputs": [],
   "source": [
    "PATH_TO_BLOG_REPO=Path('/Users/evelyn.nomayo/GitHub/project_gpt/gpt_env/etaNomayo.github.io/.git')"
   ]
  },
  {
   "cell_type": "code",
   "execution_count": 18,
   "id": "12ad055e",
   "metadata": {},
   "outputs": [
    {
     "data": {
      "text/plain": [
       "PosixPath('/Users/evelyn.nomayo/GitHub/project_gpt/gpt_env/etaNomayo.github.io')"
      ]
     },
     "execution_count": 18,
     "metadata": {},
     "output_type": "execute_result"
    }
   ],
   "source": [
    "PATH_TO_BLOG_REPO.parent"
   ]
  },
  {
   "cell_type": "code",
   "execution_count": 17,
   "id": "ebdcfec0",
   "metadata": {},
   "outputs": [],
   "source": [
    "PATH_TO_BLOG=PATH_TO_BLOG_REPO.parent"
   ]
  },
  {
   "cell_type": "code",
   "execution_count": 19,
   "id": "e0d63758",
   "metadata": {},
   "outputs": [
    {
     "data": {
      "text/plain": [
       "PosixPath('/Users/evelyn.nomayo/GitHub/project_gpt/gpt_env/etaNomayo.github.io/content')"
      ]
     },
     "execution_count": 19,
     "metadata": {},
     "output_type": "execute_result"
    }
   ],
   "source": [
    "#Create a sub directory called content\n",
    "PATH_TO_BLOG/\"content\""
   ]
  },
  {
   "cell_type": "code",
   "execution_count": 20,
   "id": "ede6bb40",
   "metadata": {},
   "outputs": [],
   "source": [
    "#Asign a variable to the path to blog\n",
    "PATH_TO_CONTENT= PATH_TO_BLOG/\"content\""
   ]
  },
  {
   "cell_type": "code",
   "execution_count": 21,
   "id": "877c4932",
   "metadata": {},
   "outputs": [],
   "source": [
    "#There is actually no content folder yet, so lets create one\n",
    "PATH_TO_CONTENT.mkdir(exist_ok=True, parents=True)"
   ]
  },
  {
   "cell_type": "markdown",
   "id": "e4f50038",
   "metadata": {},
   "source": [
    "Now that we have setup our path, let us make sure we can use git to automate update and push changes onto the blog. So we will create a function for this."
   ]
  },
  {
   "cell_type": "code",
   "execution_count": 22,
   "id": "f286013e",
   "metadata": {},
   "outputs": [],
   "source": [
    "# Function to update blog\n",
    "def update_blog(commit_message='The Blog has just been updated'):\n",
    "    #Sync to a reposotory using the gitPython library Repo\n",
    "    repo=Repo(PATH_TO_BLOG_REPO)\n",
    "    #Call the git add command to add new update vis the repo path\n",
    "    repo.git.add(all=True)\n",
    "    #git commit -m \"The Blog has just been updated\"\n",
    "    repo.index.commit(commit_message)\n",
    "    #git push\n",
    "    origin = repo.remote(name='origin')\n",
    "    origin.push()\n",
    "    "
   ]
  },
  {
   "cell_type": "code",
   "execution_count": 23,
   "id": "4ba0daf6",
   "metadata": {},
   "outputs": [],
   "source": [
    "#let us check if this works using a random text to uodate the blog post\n",
    "randon_text_string =\"Just testing here\""
   ]
  },
  {
   "cell_type": "code",
   "execution_count": null,
   "id": "d3dc6a0c",
   "metadata": {},
   "outputs": [],
   "source": [
    "with open(PATH_TO_BLOG/\"index.html\", 'w') as f:\n",
    "    f"
   ]
  }
 ],
 "metadata": {
  "kernelspec": {
   "display_name": "Python 3 (ipykernel)",
   "language": "python",
   "name": "python3"
  },
  "language_info": {
   "codemirror_mode": {
    "name": "ipython",
    "version": 3
   },
   "file_extension": ".py",
   "mimetype": "text/x-python",
   "name": "python",
   "nbconvert_exporter": "python",
   "pygments_lexer": "ipython3",
   "version": "3.10.9"
  }
 },
 "nbformat": 4,
 "nbformat_minor": 5
}
