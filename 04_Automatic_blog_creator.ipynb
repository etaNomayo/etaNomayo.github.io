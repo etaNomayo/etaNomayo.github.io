{
 "cells": [
  {
   "cell_type": "markdown",
   "id": "d019496d",
   "metadata": {},
   "source": [
    "# Automatic Blog Generator"
   ]
  },
  {
   "cell_type": "markdown",
   "id": "53b3db17",
   "metadata": {},
   "source": [
    "In this project, we will be  combining OpenAi with a document a page the lives on the internet(GitHub)."
   ]
  },
  {
   "cell_type": "markdown",
   "id": "1ed62e96",
   "metadata": {},
   "source": [
    "<h4>Setup Github Account</h4>\n",
    "<ul>\n",
    "    <li>Create a new public repository on github using the format: username.github.io</li>\n",
    " <li>Clone the repository</li>\n",
    " <li>Create an index.html file</li>\n",
    " <li>Add some content to the index file</li>\n",
    " <li>Push changes made and go to https://username.github.io to view document on the web</li>\n",
    "    </ul>\n"
   ]
  },
  {
   "cell_type": "code",
   "execution_count": 28,
   "id": "9f995cc4",
   "metadata": {},
   "outputs": [],
   "source": [
    "import openai\n",
    "import os"
   ]
  },
  {
   "cell_type": "code",
   "execution_count": 29,
   "id": "7ff60c6e",
   "metadata": {},
   "outputs": [
    {
     "name": "stdout",
     "output_type": "stream",
     "text": [
      "········\n"
     ]
    }
   ],
   "source": [
    "from getpass import getpass\n",
    "openai.api_key=getpass()"
   ]
  },
  {
   "cell_type": "code",
   "execution_count": 30,
   "id": "c9a1a6d4",
   "metadata": {
    "scrolled": true
   },
   "outputs": [
    {
     "name": "stdout",
     "output_type": "stream",
     "text": [
      "Requirement already satisfied: GitPython in /Users/evelyn.nomayo/anaconda3/lib/python3.10/site-packages (3.1.31)\n",
      "Requirement already satisfied: gitdb<5,>=4.0.1 in /Users/evelyn.nomayo/anaconda3/lib/python3.10/site-packages (from GitPython) (4.0.10)\n",
      "Requirement already satisfied: smmap<6,>=3.0.1 in /Users/evelyn.nomayo/anaconda3/lib/python3.10/site-packages (from gitdb<5,>=4.0.1->GitPython) (5.0.0)\n"
     ]
    }
   ],
   "source": [
    "#Install the GitPython library. It allows us to make git calls within python code\n",
    "!pip3 install GitPython"
   ]
  },
  {
   "cell_type": "code",
   "execution_count": 31,
   "id": "75852e65",
   "metadata": {},
   "outputs": [],
   "source": [
    "# Import Repo(Git repository) and set repo path as variables\n",
    "from git import Repo"
   ]
  },
  {
   "cell_type": "code",
   "execution_count": 32,
   "id": "cc639aa4",
   "metadata": {},
   "outputs": [],
   "source": [
    "#Import Path functionality-This allows us to easily set paths\n",
    "from pathlib import Path"
   ]
  },
  {
   "cell_type": "code",
   "execution_count": 33,
   "id": "8b9b9eb7",
   "metadata": {},
   "outputs": [
    {
     "data": {
      "text/plain": [
       "'/Users/evelyn.nomayo/GitHub/project_gpt/gpt_env/etaNomayo.github.io'"
      ]
     },
     "execution_count": 33,
     "metadata": {},
     "output_type": "execute_result"
    }
   ],
   "source": [
    "pwd"
   ]
  },
  {
   "cell_type": "code",
   "execution_count": 34,
   "id": "92c91a7b",
   "metadata": {},
   "outputs": [],
   "source": [
    "PATH_TO_BLOG_REPO=Path('/Users/evelyn.nomayo/GitHub/project_gpt/gpt_env/etaNomayo.github.io/.git')"
   ]
  },
  {
   "cell_type": "code",
   "execution_count": 35,
   "id": "309f808f",
   "metadata": {},
   "outputs": [
    {
     "data": {
      "text/plain": [
       "PosixPath('/Users/evelyn.nomayo/GitHub/project_gpt/gpt_env/etaNomayo.github.io')"
      ]
     },
     "execution_count": 35,
     "metadata": {},
     "output_type": "execute_result"
    }
   ],
   "source": [
    "PATH_TO_BLOG_REPO.parent"
   ]
  },
  {
   "cell_type": "code",
   "execution_count": 36,
   "id": "787ef6e7",
   "metadata": {},
   "outputs": [],
   "source": [
    "PATH_TO_BLOG=PATH_TO_BLOG_REPO.parent"
   ]
  },
  {
   "cell_type": "code",
   "execution_count": 37,
   "id": "51bd4365",
   "metadata": {},
   "outputs": [
    {
     "data": {
      "text/plain": [
       "PosixPath('/Users/evelyn.nomayo/GitHub/project_gpt/gpt_env/etaNomayo.github.io/content')"
      ]
     },
     "execution_count": 37,
     "metadata": {},
     "output_type": "execute_result"
    }
   ],
   "source": [
    "#Create a sub directory called content\n",
    "PATH_TO_BLOG/\"content\""
   ]
  },
  {
   "cell_type": "code",
   "execution_count": 38,
   "id": "e34dda00",
   "metadata": {},
   "outputs": [],
   "source": [
    "#Assign a variable to the path to blog\n",
    "PATH_TO_CONTENT= PATH_TO_BLOG/\"content\""
   ]
  },
  {
   "cell_type": "code",
   "execution_count": 39,
   "id": "24ce9fb3",
   "metadata": {},
   "outputs": [],
   "source": [
    "#There is actually no content folder yet, so lets create one\n",
    "PATH_TO_CONTENT.mkdir(exist_ok=True, parents=True)"
   ]
  },
  {
   "cell_type": "markdown",
   "id": "c3abbbf6",
   "metadata": {},
   "source": [
    "# Function to automatically update web page "
   ]
  },
  {
   "cell_type": "markdown",
   "id": "e0430dd0",
   "metadata": {},
   "source": [
    "Now that we've established our file path, let's verify that we can utilize Git to automate updates and push changes to the blog. To achieve this, we'll create a function that can handle adding, committing, and pushing changes from within Python"
   ]
  },
  {
   "cell_type": "code",
   "execution_count": 40,
   "id": "565818a3",
   "metadata": {},
   "outputs": [],
   "source": [
    "# Function to update blog\n",
    "def update_blog(commit_message='The Blog has just been updated'):\n",
    "    #Sync to a reposotory using the gitPython library Repo\n",
    "    repo=Repo(PATH_TO_BLOG_REPO)\n",
    "    #Call the git add command to add new update vis the repo path\n",
    "    repo.git.add(all=True)\n",
    "    #git commit -m \"The Blog has just been updated\"\n",
    "    repo.index.commit(commit_message)\n",
    "    #git push\n",
    "    origin = repo.remote(name='origin')\n",
    "    origin.push()\n",
    "    "
   ]
  },
  {
   "cell_type": "code",
   "execution_count": 41,
   "id": "2112fc47",
   "metadata": {},
   "outputs": [],
   "source": [
    "#let us check if this works using a random text to uodate the blog post\n",
    "randon_text_string =\"Just testing here, note that this will replace the original content\""
   ]
  },
  {
   "cell_type": "code",
   "execution_count": 42,
   "id": "add84d2a",
   "metadata": {},
   "outputs": [],
   "source": [
    "with open(PATH_TO_BLOG/\"index.html\", 'w') as f:\n",
    "    f.write(randon_text_string)"
   ]
  },
  {
   "cell_type": "code",
   "execution_count": 43,
   "id": "005a8e40",
   "metadata": {},
   "outputs": [],
   "source": [
    "update_blog()"
   ]
  },
  {
   "cell_type": "markdown",
   "id": "c1c2cb82",
   "metadata": {},
   "source": [
    "# Function to automatically create HTML pages"
   ]
  },
  {
   "cell_type": "markdown",
   "id": "773da292",
   "metadata": {},
   "source": [
    "The function will have the ability to generate HTML pages automatically and complete with placeholders for text and images. These placeholders will later be populated with data retrieved from OpenAI API calls. The pages will be pushed to the content directory created above"
   ]
  },
  {
   "cell_type": "code",
   "execution_count": 44,
   "id": "381fc80c",
   "metadata": {},
   "outputs": [],
   "source": [
    "#Function to create new blog pages\n",
    "#import the shutil utility to help with copying and moving files, as well as archiving utilities.\n",
    "\n",
    "import shutil\n",
    "def create_new_blog(title, content, cover_image):\n",
    "    cover_image =Path(cover_image)\n",
    "    #Get a list of files and count the number of html files in the content directory\n",
    "    files =len(list(PATH_TO_CONTENT.glob(\".html\")))\n",
    "    new_title = f\"(files+1).html\"\n",
    "    path_to_new_content = PATH_TO_CONTENT/new_title\n",
    "    \n",
    "    #copy cover image and put it in the path to content\n",
    "    \n",
    "    shutil.copy(cover_image, PATH_TO_CONTENT)\n",
    "    if not os.path.exists(path_to_new_content):\n",
    "        with open(path_to_new_content, \"w\") as f:\n",
    "            f.write(\"<!DOCTYPE html>\\n\")\n",
    "            f.write(\"<html>\\n\")\n",
    "            f.write(\"<head>\\n\")\n",
    "            f.write(f\"<title> {title} </title>\\n\")\n",
    "            f.write(\"</head>\\n\")\n",
    "            \n",
    "            f.write(\"<body>\\n\")\n",
    "            f.write(f\"<img src='{cover_image.name}' alt='Cover Image'> <br />\\n\")\n",
    "            f.write(f\"<h1> {title} </h1>\")\n",
    "            f.write(content.replace(\"\\n\", \"<br />\\n\"))\n",
    "            f.write(\"</body>\\n\")\n",
    "            f.write(\"</html>\\n\")\n",
    "            print(\"Blog created\")\n",
    "    return path_to_new_content\n",
    "   # else:\n",
    "    #        raise FileExistsError('This file already exsist, please check the name of the file! Aborting....')\n"
   ]
  },
  {
   "cell_type": "code",
   "execution_count": 45,
   "id": "10fec182",
   "metadata": {},
   "outputs": [],
   "source": [
    "path_to_new_content = create_new_blog('Test_title','Randon text','accenture.svg')"
   ]
  },
  {
   "cell_type": "code",
   "execution_count": 46,
   "id": "1ff86a1c",
   "metadata": {},
   "outputs": [
    {
     "name": "stdout",
     "output_type": "stream",
     "text": [
      "/Users/evelyn.nomayo/GitHub/project_gpt/gpt_env/etaNomayo.github.io/content/(files+1).html\n"
     ]
    }
   ],
   "source": [
    "print(path_to_new_content)"
   ]
  },
  {
   "cell_type": "markdown",
   "id": "679da9d9",
   "metadata": {},
   "source": [
    "We will automate the process of adding a link to all blog posts on the index page using the library known as Beautiful Soup. This will involve creating a list on the index page that contains links to all blog posts"
   ]
  },
  {
   "cell_type": "code",
   "execution_count": 47,
   "id": "4cceb733",
   "metadata": {},
   "outputs": [
    {
     "name": "stdout",
     "output_type": "stream",
     "text": [
      "Requirement already satisfied: beautifulsoup4 in /Users/evelyn.nomayo/anaconda3/lib/python3.10/site-packages (4.11.1)\r\n",
      "Requirement already satisfied: soupsieve>1.2 in /Users/evelyn.nomayo/anaconda3/lib/python3.10/site-packages (from beautifulsoup4) (2.3.2.post1)\r\n"
     ]
    }
   ],
   "source": [
    "#Install beautifulsoup4: used for web scraping purposes to extract data from HTML and XML documents. It provides a simple and efficient way to navigate, search, and modify the parsed HTML or XML data.\n",
    "!pip install beautifulsoup4"
   ]
  },
  {
   "cell_type": "code",
   "execution_count": 20,
   "id": "c6eab1c4",
   "metadata": {},
   "outputs": [],
   "source": [
    "from bs4 import BeautifulSoup as Soup"
   ]
  },
  {
   "cell_type": "code",
   "execution_count": 21,
   "id": "abbf1114",
   "metadata": {},
   "outputs": [],
   "source": [
    "with open(PATH_TO_BLOG/\"index.html\") as index:\n",
    "    soup = Soup(index.read())"
   ]
  },
  {
   "cell_type": "code",
   "execution_count": 22,
   "id": "f283636f",
   "metadata": {},
   "outputs": [
    {
     "data": {
      "text/plain": [
       "'<html><body><p>Just testing here, note that this will replace the original content</p></body></html>'"
      ]
     },
     "execution_count": 22,
     "metadata": {},
     "output_type": "execute_result"
    }
   ],
   "source": [
    "str(soup)"
   ]
  },
  {
   "cell_type": "markdown",
   "id": "9df6626e",
   "metadata": {},
   "source": [
    "Now let us check for duplicate links and pass in the path to the new content"
   ]
  },
  {
   "cell_type": "code",
   "execution_count": 23,
   "id": "89e0ee4d",
   "metadata": {},
   "outputs": [],
   "source": [
    "def check_for_duplicate_links(path_to_new_content, links):\n",
    "    urls = [str(link.get(\"href\")) for link in links]\n",
    "    content_path = str(Path(*path_to_new_content.parts[-2:]))\n",
    "    return content_path in urls"
   ]
  },
  {
   "cell_type": "markdown",
   "id": "80cd1351",
   "metadata": {},
   "source": [
    "Now lets write to the index file"
   ]
  },
  {
   "cell_type": "code",
   "execution_count": 24,
   "id": "e5357ef8",
   "metadata": {},
   "outputs": [],
   "source": [
    "def write_to_index(path_to_new_content):\n",
    "    with open(PATH_TO_BLOG/\"index.html\") as index:\n",
    "        soup = Soup(index.read())\n",
    "\n",
    "    links = soup.find_all(\"a\")\n",
    "    \n",
    "    if not links:\n",
    "        # There are no links in the index.html file yet\n",
    "        # Create a new <a> tag to add to the end of the file\n",
    "        link_to_new_blog = soup.new_tag(\"a\", href=Path(*path_to_new_content.parts[-2:]))\n",
    "        link_to_new_blog.string = path_to_new_content.name.split(\".\")[0]\n",
    "        soup.append(link_to_new_blog)\n",
    "    else:\n",
    "        last_link = links[-1]\n",
    "        if check_for_duplicate_links(path_to_new_content, links):\n",
    "            raise ValueError(\"Link already exists!\")\n",
    "        \n",
    "        link_to_new_blog = soup.new_tag(\"a\", href=Path(*path_to_new_content.parts[-2:]))\n",
    "        link_to_new_blog.string = path_to_new_content.name.split(\".\")[0]\n",
    "        last_link.insert_after(link_to_new_blog)\n",
    "    \n",
    "    with open(PATH_TO_BLOG/\"index.html\", \"w\") as f:\n",
    "        f.write(str(soup.prettify(formatter='html')))\n",
    "        \n"
   ]
  },
  {
   "cell_type": "code",
   "execution_count": 25,
   "id": "893459a0",
   "metadata": {},
   "outputs": [],
   "source": [
    "write_to_index(path_to_new_content)"
   ]
  },
  {
   "cell_type": "code",
   "execution_count": 26,
   "id": "f4e26f0c",
   "metadata": {},
   "outputs": [
    {
     "ename": "NameError",
     "evalue": "name 'update_blog' is not defined",
     "output_type": "error",
     "traceback": [
      "\u001b[0;31m---------------------------------------------------------------------------\u001b[0m",
      "\u001b[0;31mNameError\u001b[0m                                 Traceback (most recent call last)",
      "Cell \u001b[0;32mIn[26], line 1\u001b[0m\n\u001b[0;32m----> 1\u001b[0m \u001b[43mupdate_blog\u001b[49m()\n",
      "\u001b[0;31mNameError\u001b[0m: name 'update_blog' is not defined"
     ]
    }
   ],
   "source": [
    "update_blog()"
   ]
  },
  {
   "cell_type": "code",
   "execution_count": null,
   "id": "1c39b0f3",
   "metadata": {},
   "outputs": [],
   "source": []
  }
 ],
 "metadata": {
  "kernelspec": {
   "display_name": "Python 3 (ipykernel)",
   "language": "python",
   "name": "python3"
  },
  "language_info": {
   "codemirror_mode": {
    "name": "ipython",
    "version": 3
   },
   "file_extension": ".py",
   "mimetype": "text/x-python",
   "name": "python",
   "nbconvert_exporter": "python",
   "pygments_lexer": "ipython3",
   "version": "3.10.9"
  }
 },
 "nbformat": 4,
 "nbformat_minor": 5
}
