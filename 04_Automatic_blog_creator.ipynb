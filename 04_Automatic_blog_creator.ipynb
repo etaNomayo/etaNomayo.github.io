{
 "cells": [
  {
   "cell_type": "markdown",
   "id": "be1b5102",
   "metadata": {},
   "source": [
    "# Automatic Blog Generator"
   ]
  },
  {
   "cell_type": "markdown",
   "id": "2c0d8445",
   "metadata": {},
   "source": [
    "In this project, we will be  combining OpenAi with a document a page the lives on the internet(GitHub)."
   ]
  },
  {
   "cell_type": "markdown",
   "id": "46fb246d",
   "metadata": {},
   "source": [
    "<h4>Setup Github Account</h4>\n",
    "<ul>\n",
    "    <li>Create a new public repository on github using the format: username.github.io</li>\n",
    " <li>Clone the repository</li>\n",
    " <li>Create an index.html file</li>\n",
    " <li>Add some content to the index file</li>\n",
    " <li>Push changes made and go to https://username.github.io to view document on the web</li>\n",
    "    </ul>\n"
   ]
  },
  {
   "cell_type": "code",
   "execution_count": 2,
   "id": "c4021c48",
   "metadata": {},
   "outputs": [],
   "source": [
    "import openai"
   ]
  },
  {
   "cell_type": "code",
   "execution_count": 3,
   "id": "4e4fdd49",
   "metadata": {},
   "outputs": [
    {
     "name": "stdout",
     "output_type": "stream",
     "text": [
      "········\n"
     ]
    }
   ],
   "source": [
    "from getpass import getpass\n",
    "openai.api_key=getpass()"
   ]
  },
  {
   "cell_type": "code",
   "execution_count": 1,
   "id": "76bed6c9",
   "metadata": {},
   "outputs": [
    {
     "name": "stdout",
     "output_type": "stream",
     "text": [
      "Requirement already satisfied: GitPython in /Users/evelyn.nomayo/anaconda3/lib/python3.10/site-packages (3.1.31)\r\n",
      "Requirement already satisfied: gitdb<5,>=4.0.1 in /Users/evelyn.nomayo/anaconda3/lib/python3.10/site-packages (from GitPython) (4.0.10)\r\n",
      "Requirement already satisfied: smmap<6,>=3.0.1 in /Users/evelyn.nomayo/anaconda3/lib/python3.10/site-packages (from gitdb<5,>=4.0.1->GitPython) (5.0.0)\r\n"
     ]
    }
   ],
   "source": [
    "#Install the GitPython library. It allows us to make git calls within python code\n",
    "!pip3 install GitPython"
   ]
  },
  {
   "cell_type": "code",
   "execution_count": 4,
   "id": "d7f30c7a",
   "metadata": {},
   "outputs": [],
   "source": [
    "# Import Repo(Git repository) and set repo path as variables\n",
    "from git import Repo"
   ]
  },
  {
   "cell_type": "code",
   "execution_count": 10,
   "id": "24afaac8",
   "metadata": {},
   "outputs": [],
   "source": [
    "#Import Path functionality-This allows us to easily set paths\n",
    "from pathlib import Path"
   ]
  },
  {
   "cell_type": "code",
   "execution_count": 6,
   "id": "72b963c2",
   "metadata": {},
   "outputs": [
    {
     "data": {
      "text/plain": [
       "'/Users/evelyn.nomayo/GitHub/project_gpt/gpt_env/etaNomayo.github.io'"
      ]
     },
     "execution_count": 6,
     "metadata": {},
     "output_type": "execute_result"
    }
   ],
   "source": [
    "pwd"
   ]
  },
  {
   "cell_type": "code",
   "execution_count": 14,
   "id": "0255b3c8",
   "metadata": {},
   "outputs": [],
   "source": [
    "PATH_TO_BLOG_REPO=Path('/Users/evelyn.nomayo/GitHub/project_gpt/gpt_env/etaNomayo.github.io/.git')"
   ]
  },
  {
   "cell_type": "code",
   "execution_count": 18,
   "id": "89bd88e1",
   "metadata": {},
   "outputs": [
    {
     "data": {
      "text/plain": [
       "PosixPath('/Users/evelyn.nomayo/GitHub/project_gpt/gpt_env/etaNomayo.github.io')"
      ]
     },
     "execution_count": 18,
     "metadata": {},
     "output_type": "execute_result"
    }
   ],
   "source": [
    "PATH_TO_BLOG_REPO.parent"
   ]
  },
  {
   "cell_type": "code",
   "execution_count": 17,
   "id": "7ae353c2",
   "metadata": {},
   "outputs": [],
   "source": [
    "PATH_TO_BLOG=PATH_TO_BLOG_REPO.parent"
   ]
  },
  {
   "cell_type": "code",
   "execution_count": 19,
   "id": "0edcaf27",
   "metadata": {},
   "outputs": [
    {
     "data": {
      "text/plain": [
       "PosixPath('/Users/evelyn.nomayo/GitHub/project_gpt/gpt_env/etaNomayo.github.io/content')"
      ]
     },
     "execution_count": 19,
     "metadata": {},
     "output_type": "execute_result"
    }
   ],
   "source": [
    "#Create a sub directory called content\n",
    "PATH_TO_BLOG/\"content\""
   ]
  },
  {
   "cell_type": "code",
   "execution_count": 20,
   "id": "80c573fc",
   "metadata": {},
   "outputs": [],
   "source": [
    "#Asign a variable to the path to blog\n",
    "PATH_TO_CONTENT= PATH_TO_BLOG/\"content\""
   ]
  },
  {
   "cell_type": "code",
   "execution_count": 21,
   "id": "6f33debe",
   "metadata": {},
   "outputs": [],
   "source": [
    "#There is actually no content folder yet, so lets create one\n",
    "PATH_TO_CONTENT.mkdir(exist_ok=True, parents=True)"
   ]
  },
  {
   "cell_type": "markdown",
   "id": "07ad1d9b",
   "metadata": {},
   "source": [
    "Now that we have setup our path, let us make sure we can use git to automate update and push changes onto the blog. So we will create a function for this."
   ]
  },
  {
   "cell_type": "code",
   "execution_count": 22,
   "id": "acce99a3",
   "metadata": {},
   "outputs": [],
   "source": [
    "# Function to update blog\n",
    "def update_blog(commit_message='The Blog has just been updated'):\n",
    "    #Sync to a reposotory using the gitPython library Repo\n",
    "    repo=Repo(PATH_TO_BLOG_REPO)\n",
    "    #Call the git add command to add new update vis the repo path\n",
    "    repo.git.add(all=True)\n",
    "    #git commit -m \"The Blog has just been updated\"\n",
    "    repo.index.commit(commit_message)\n",
    "    #git push\n",
    "    origin = repo.remote(name='origin')\n",
    "    origin.push()\n",
    "    "
   ]
  },
  {
   "cell_type": "code",
   "execution_count": 23,
   "id": "5476b50f",
   "metadata": {},
   "outputs": [],
   "source": [
    "#let us check if this works using a random text to uodate the blog post\n",
    "randon_text_string =\"Just testing here\""
   ]
  },
  {
   "cell_type": "code",
   "execution_count": 24,
   "id": "cc02726f",
   "metadata": {},
   "outputs": [],
   "source": [
    "with open(PATH_TO_BLOG/\"index.html\", 'w') as f:\n",
    "    f.write(randon_text_string)"
   ]
  },
  {
   "cell_type": "code",
   "execution_count": 25,
   "id": "7585e038",
   "metadata": {},
   "outputs": [],
   "source": [
    "update_blog()"
   ]
  },
  {
   "cell_type": "code",
   "execution_count": null,
   "id": "98e24361",
   "metadata": {},
   "outputs": [],
   "source": []
  }
 ],
 "metadata": {
  "kernelspec": {
   "display_name": "Python 3 (ipykernel)",
   "language": "python",
   "name": "python3"
  },
  "language_info": {
   "codemirror_mode": {
    "name": "ipython",
    "version": 3
   },
   "file_extension": ".py",
   "mimetype": "text/x-python",
   "name": "python",
   "nbconvert_exporter": "python",
   "pygments_lexer": "ipython3",
   "version": "3.10.9"
  }
 },
 "nbformat": 4,
 "nbformat_minor": 5
}
